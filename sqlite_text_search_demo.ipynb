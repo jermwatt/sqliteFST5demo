{
  "cells": [
    {
      "cell_type": "markdown",
      "metadata": {
        "id": "view-in-github",
        "colab_type": "text"
      },
      "source": [
        "<a href=\"https://colab.research.google.com/github/jermwatt/sqliteFST5demo/blob/master/sqlite_text_search_demo.ipynb\" target=\"_parent\"><img src=\"https://colab.research.google.com/assets/colab-badge.svg\" alt=\"Open In Colab\"/></a>"
      ]
    },
    {
      "cell_type": "markdown",
      "id": "43ed1b6b",
      "metadata": {
        "id": "43ed1b6b"
      },
      "source": [
        "# 1.  A reminder that sqlite has decent text search capabilities"
      ]
    },
    {
      "cell_type": "markdown",
      "id": "5267ebc0",
      "metadata": {
        "id": "5267ebc0"
      },
      "source": [
        "I always forget that sqlite has a simple-to-use [extension](https://www.sqlite.org/fts5.html) (that comes with Python's built in version) allows for decent full text search.  \n",
        "\n",
        "This is a reminder notebook illustrating how to setup this full text search functionality on a small example dataset.  This is the \"ASMR YouTube channels\" [Kaggle dataset](https://www.kaggle.com/datasets/ulisesmontoyacanales/youtube-asmr-channels) - which some rich text columns detailing various facets of some ASMR YouTube channels (like a channel's `description`)\n",
        "\n",
        "Let's get started.\n",
        "\n",
        "Step 1: below we load in our dataset, printing the first few rows - here we see a number of text-based columns we may want to search over e.g., `title`, and `description`."
      ]
    },
    {
      "cell_type": "code",
      "execution_count": null,
      "id": "24e4745f",
      "metadata": {
        "id": "24e4745f",
        "outputId": "d04f3abd-3340-4aec-d62e-eee45484e626",
        "colab": {
          "base_uri": "https://localhost:8080/",
          "height": 225
        }
      },
      "outputs": [
        {
          "output_type": "stream",
          "name": "stdout",
          "text": [
            "Downloading ASMR_channels.csv\n",
            "download of ASMR_channels.csv complete!\n"
          ]
        },
        {
          "output_type": "execute_result",
          "data": {
            "text/plain": [
              "                  channelId            customUrl            title  \\\n",
              "0  UCFmL725KKPx2URVPvH3Gp8w            @asmrglow        ASMR Glow   \n",
              "1  UCvp9ypbbOQ2-vtuO-J3k-lw  @alexandriaasmr8317  Alexandria ASMR   \n",
              "\n",
              "                                         description country  viewCount  \\\n",
              "0  Here's everywhere you can find me: https://lin...      US  579354212   \n",
              "1  ASMR - Autonomous sensory meridian response. I...      US  108539091   \n",
              "\n",
              "   subscriberCount  videoCount madeForkids          creationDate  \n",
              "0          1720000         736       False  2016-10-24T08:22:54Z  \n",
              "1           548000         295       False  2018-10-16T19:45:42Z  "
            ],
            "text/html": [
              "\n",
              "  <div id=\"df-a048de94-45c7-4a4e-b228-446fce7fd49d\">\n",
              "    <div class=\"colab-df-container\">\n",
              "      <div>\n",
              "<style scoped>\n",
              "    .dataframe tbody tr th:only-of-type {\n",
              "        vertical-align: middle;\n",
              "    }\n",
              "\n",
              "    .dataframe tbody tr th {\n",
              "        vertical-align: top;\n",
              "    }\n",
              "\n",
              "    .dataframe thead th {\n",
              "        text-align: right;\n",
              "    }\n",
              "</style>\n",
              "<table border=\"1\" class=\"dataframe\">\n",
              "  <thead>\n",
              "    <tr style=\"text-align: right;\">\n",
              "      <th></th>\n",
              "      <th>channelId</th>\n",
              "      <th>customUrl</th>\n",
              "      <th>title</th>\n",
              "      <th>description</th>\n",
              "      <th>country</th>\n",
              "      <th>viewCount</th>\n",
              "      <th>subscriberCount</th>\n",
              "      <th>videoCount</th>\n",
              "      <th>madeForkids</th>\n",
              "      <th>creationDate</th>\n",
              "    </tr>\n",
              "  </thead>\n",
              "  <tbody>\n",
              "    <tr>\n",
              "      <th>0</th>\n",
              "      <td>UCFmL725KKPx2URVPvH3Gp8w</td>\n",
              "      <td>@asmrglow</td>\n",
              "      <td>ASMR Glow</td>\n",
              "      <td>Here's everywhere you can find me: https://lin...</td>\n",
              "      <td>US</td>\n",
              "      <td>579354212</td>\n",
              "      <td>1720000</td>\n",
              "      <td>736</td>\n",
              "      <td>False</td>\n",
              "      <td>2016-10-24T08:22:54Z</td>\n",
              "    </tr>\n",
              "    <tr>\n",
              "      <th>1</th>\n",
              "      <td>UCvp9ypbbOQ2-vtuO-J3k-lw</td>\n",
              "      <td>@alexandriaasmr8317</td>\n",
              "      <td>Alexandria ASMR</td>\n",
              "      <td>ASMR - Autonomous sensory meridian response. I...</td>\n",
              "      <td>US</td>\n",
              "      <td>108539091</td>\n",
              "      <td>548000</td>\n",
              "      <td>295</td>\n",
              "      <td>False</td>\n",
              "      <td>2018-10-16T19:45:42Z</td>\n",
              "    </tr>\n",
              "  </tbody>\n",
              "</table>\n",
              "</div>\n",
              "      <button class=\"colab-df-convert\" onclick=\"convertToInteractive('df-a048de94-45c7-4a4e-b228-446fce7fd49d')\"\n",
              "              title=\"Convert this dataframe to an interactive table.\"\n",
              "              style=\"display:none;\">\n",
              "        \n",
              "  <svg xmlns=\"http://www.w3.org/2000/svg\" height=\"24px\"viewBox=\"0 0 24 24\"\n",
              "       width=\"24px\">\n",
              "    <path d=\"M0 0h24v24H0V0z\" fill=\"none\"/>\n",
              "    <path d=\"M18.56 5.44l.94 2.06.94-2.06 2.06-.94-2.06-.94-.94-2.06-.94 2.06-2.06.94zm-11 1L8.5 8.5l.94-2.06 2.06-.94-2.06-.94L8.5 2.5l-.94 2.06-2.06.94zm10 10l.94 2.06.94-2.06 2.06-.94-2.06-.94-.94-2.06-.94 2.06-2.06.94z\"/><path d=\"M17.41 7.96l-1.37-1.37c-.4-.4-.92-.59-1.43-.59-.52 0-1.04.2-1.43.59L10.3 9.45l-7.72 7.72c-.78.78-.78 2.05 0 2.83L4 21.41c.39.39.9.59 1.41.59.51 0 1.02-.2 1.41-.59l7.78-7.78 2.81-2.81c.8-.78.8-2.07 0-2.86zM5.41 20L4 18.59l7.72-7.72 1.47 1.35L5.41 20z\"/>\n",
              "  </svg>\n",
              "      </button>\n",
              "      \n",
              "  <style>\n",
              "    .colab-df-container {\n",
              "      display:flex;\n",
              "      flex-wrap:wrap;\n",
              "      gap: 12px;\n",
              "    }\n",
              "\n",
              "    .colab-df-convert {\n",
              "      background-color: #E8F0FE;\n",
              "      border: none;\n",
              "      border-radius: 50%;\n",
              "      cursor: pointer;\n",
              "      display: none;\n",
              "      fill: #1967D2;\n",
              "      height: 32px;\n",
              "      padding: 0 0 0 0;\n",
              "      width: 32px;\n",
              "    }\n",
              "\n",
              "    .colab-df-convert:hover {\n",
              "      background-color: #E2EBFA;\n",
              "      box-shadow: 0px 1px 2px rgba(60, 64, 67, 0.3), 0px 1px 3px 1px rgba(60, 64, 67, 0.15);\n",
              "      fill: #174EA6;\n",
              "    }\n",
              "\n",
              "    [theme=dark] .colab-df-convert {\n",
              "      background-color: #3B4455;\n",
              "      fill: #D2E3FC;\n",
              "    }\n",
              "\n",
              "    [theme=dark] .colab-df-convert:hover {\n",
              "      background-color: #434B5C;\n",
              "      box-shadow: 0px 1px 3px 1px rgba(0, 0, 0, 0.15);\n",
              "      filter: drop-shadow(0px 1px 2px rgba(0, 0, 0, 0.3));\n",
              "      fill: #FFFFFF;\n",
              "    }\n",
              "  </style>\n",
              "\n",
              "      <script>\n",
              "        const buttonEl =\n",
              "          document.querySelector('#df-a048de94-45c7-4a4e-b228-446fce7fd49d button.colab-df-convert');\n",
              "        buttonEl.style.display =\n",
              "          google.colab.kernel.accessAllowed ? 'block' : 'none';\n",
              "\n",
              "        async function convertToInteractive(key) {\n",
              "          const element = document.querySelector('#df-a048de94-45c7-4a4e-b228-446fce7fd49d');\n",
              "          const dataTable =\n",
              "            await google.colab.kernel.invokeFunction('convertToInteractive',\n",
              "                                                     [key], {});\n",
              "          if (!dataTable) return;\n",
              "\n",
              "          const docLinkHtml = 'Like what you see? Visit the ' +\n",
              "            '<a target=\"_blank\" href=https://colab.research.google.com/notebooks/data_table.ipynb>data table notebook</a>'\n",
              "            + ' to learn more about interactive tables.';\n",
              "          element.innerHTML = '';\n",
              "          dataTable['output_type'] = 'display_data';\n",
              "          await google.colab.output.renderOutput(dataTable, element);\n",
              "          const docLink = document.createElement('div');\n",
              "          docLink.innerHTML = docLinkHtml;\n",
              "          element.appendChild(docLink);\n",
              "        }\n",
              "      </script>\n",
              "    </div>\n",
              "  </div>\n",
              "  "
            ]
          },
          "metadata": {},
          "execution_count": 2
        }
      ],
      "source": [
        "# import standard libs\n",
        "import os\n",
        "\n",
        "# if on collab pull required dataet\n",
        "if os.getenv(\"COLAB_RELEASE_TAG\"): \n",
        "    from pathlib import Path\n",
        "    import requests\n",
        "\n",
        "    filename_url = 'https://raw.githubusercontent.com/jermwatt/sqliteFST5demo/master/ASMR_channels.csv'\n",
        "    filename = filename_url.split('/')[-1]\n",
        "\n",
        "    if Path(filename).is_file():\n",
        "      print(filename,\".csv already exists, skipping download\")\n",
        "    else:\n",
        "      print(\"Downloading\",filename)\n",
        "\n",
        "    request = requests.get(filename_url)\n",
        "    with open(filename, \"wb\") as f:\n",
        "      f.write(request.content)\n",
        "\n",
        "    print('download of',filename,'complete!')\n",
        "\n",
        "# general imports \n",
        "import sys  \n",
        "cwd = os.getcwd()\n",
        "dataset_name = 'ASMR_channels.csv'\n",
        "datapath = cwd + '/' + dataset_name\n",
        "import pandas as pd\n",
        "\n",
        "# read in dataset\n",
        "df = pd.read_csv(dataset_name)\n",
        "\n",
        "# examine head\n",
        "df.head(2)"
      ]
    },
    {
      "cell_type": "markdown",
      "id": "fedcb7b8",
      "metadata": {
        "id": "fedcb7b8"
      },
      "source": [
        "Let's use sqlite to create full text search capability over the `description` column.\n",
        "\n",
        "This involves creating a special virtual table using Python's built-in `sqlite` library and `fts5` (full-text-search-5) built in extension - as shown below."
      ]
    },
    {
      "cell_type": "code",
      "execution_count": null,
      "id": "19dfa1be",
      "metadata": {
        "id": "19dfa1be"
      },
      "outputs": [],
      "source": [
        "# target filepath for sqlite db\n",
        "import sqlite3, os\n",
        "cwd = os.getcwd()\n",
        "db_name = 'test.db'\n",
        "dbpath = cwd + '/' + db_name\n",
        "\n",
        "# connect to db\n",
        "db = sqlite3.connect(dbpath)\n",
        "cur = db.cursor()\n",
        "\n",
        "# create a virtual table to house our text search\n",
        "cur.execute('''\n",
        "        CREATE VIRTUAL TABLE IF NOT EXISTS\n",
        "            asmr_description_search \n",
        "        USING\n",
        "            fts5(description, tokenize=\"porter unicode61\");\n",
        "    ''')\n",
        "\n",
        "# dump description column into virtual table\n",
        "cur.executemany('insert into asmr_description_search (description) values (?);', df[['description']].to_records(index=False))\n",
        "\n",
        "# commit\n",
        "db.commit()"
      ]
    },
    {
      "cell_type": "markdown",
      "id": "39fa0677",
      "metadata": {
        "id": "39fa0677"
      },
      "source": [
        "We can now perform full text search our `description` column - as shown below - using  `sqlalchemy` connection."
      ]
    },
    {
      "cell_type": "code",
      "execution_count": null,
      "id": "990354af",
      "metadata": {
        "id": "990354af",
        "outputId": "ccce4081-4ffc-48f6-94df-1c20175c1d33",
        "colab": {
          "base_uri": "https://localhost:8080/"
        }
      },
      "outputs": [
        {
          "output_type": "stream",
          "name": "stdout",
          "text": [
            "('I make ASMR videos 💖',)\n",
            "('I make ASMR videos to relax you, give you tingles and help you sleep 😴',)\n",
            "('Hi there! I make ASMR videos about music: music theory, music history, etc. Subscribe for more videos!',)\n",
            "('Hi I make asmr crushing with my monster slippers, this will be mostly repurposed content from my TikTok',)\n",
            "(\"Hello my lovely sweethearts💕 I'm Juliana, and I make ASMR videos to help you relax and fall asleep🥰\",)\n"
          ]
        }
      ],
      "source": [
        "# define input keywords\n",
        "search_phrase = 'i make asmr'\n",
        "\n",
        "# execute full text search\n",
        "cur.execute('''\n",
        "    SELECT \n",
        "        * \n",
        "    FROM \n",
        "        asmr_description_search\n",
        "    WHERE \n",
        "        description MATCH '\" ''' + str(search_phrase) + ''' \"'\n",
        "    ORDER BY \n",
        "        rank\n",
        "    LIMIT\n",
        "        5\n",
        "    ''')\n",
        "\n",
        "rows = cur.fetchall()\n",
        "\n",
        "for row in rows:\n",
        "    print(row)"
      ]
    }
  ],
  "metadata": {
    "kernelspec": {
      "display_name": "Python 3 (ipykernel)",
      "language": "python",
      "name": "python3"
    },
    "language_info": {
      "codemirror_mode": {
        "name": "ipython",
        "version": 3
      },
      "file_extension": ".py",
      "mimetype": "text/x-python",
      "name": "python",
      "nbconvert_exporter": "python",
      "pygments_lexer": "ipython3",
      "version": "3.11.2"
    },
    "colab": {
      "provenance": [],
      "include_colab_link": true
    }
  },
  "nbformat": 4,
  "nbformat_minor": 5
}