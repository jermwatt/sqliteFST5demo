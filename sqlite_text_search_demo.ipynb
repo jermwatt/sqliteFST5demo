{
 "cells": [
  {
   "cell_type": "markdown",
   "id": "43ed1b6b",
   "metadata": {},
   "source": [
    "# 1.  A reminder that sqlite has decent text search capabilities"
   ]
  },
  {
   "attachments": {},
   "cell_type": "markdown",
   "id": "5267ebc0",
   "metadata": {},
   "source": [
    "I always forget that sqlite has a simple-to-use [extension](https://www.sqlite.org/fts5.html) (that comes with Python's built in version) allows for decent full text search.  \n",
    "\n",
    "This is a reminder notebook illustrating how to setup this full text search functionality on a small example dataset.  This is the \"ASMR YouTube channels\" [Kaggle dataset](https://www.kaggle.com/datasets/ulisesmontoyacanales/youtube-asmr-channels) - which some rich text columns detailing various facets of some ASMR YouTube channels (like a channel's `description`)\n",
    "\n",
    "Let's get started.\n",
    "\n",
    "Step 1: below we load in our dataset, printing the first few rows - here we see a number of text-based columns we may want to search over e.g., `title`, and `description`."
   ]
  },
  {
   "cell_type": "code",
   "execution_count": 21,
   "id": "24e4745f",
   "metadata": {},
   "outputs": [
    {
     "data": {
      "text/html": [
       "<div>\n",
       "<style scoped>\n",
       "    .dataframe tbody tr th:only-of-type {\n",
       "        vertical-align: middle;\n",
       "    }\n",
       "\n",
       "    .dataframe tbody tr th {\n",
       "        vertical-align: top;\n",
       "    }\n",
       "\n",
       "    .dataframe thead th {\n",
       "        text-align: right;\n",
       "    }\n",
       "</style>\n",
       "<table border=\"1\" class=\"dataframe\">\n",
       "  <thead>\n",
       "    <tr style=\"text-align: right;\">\n",
       "      <th></th>\n",
       "      <th>channelId</th>\n",
       "      <th>customUrl</th>\n",
       "      <th>title</th>\n",
       "      <th>description</th>\n",
       "      <th>country</th>\n",
       "      <th>viewCount</th>\n",
       "      <th>subscriberCount</th>\n",
       "      <th>videoCount</th>\n",
       "      <th>madeForkids</th>\n",
       "      <th>creationDate</th>\n",
       "    </tr>\n",
       "  </thead>\n",
       "  <tbody>\n",
       "    <tr>\n",
       "      <th>0</th>\n",
       "      <td>UCFmL725KKPx2URVPvH3Gp8w</td>\n",
       "      <td>@asmrglow</td>\n",
       "      <td>ASMR Glow</td>\n",
       "      <td>Here's everywhere you can find me: https://lin...</td>\n",
       "      <td>US</td>\n",
       "      <td>579354212</td>\n",
       "      <td>1720000</td>\n",
       "      <td>736</td>\n",
       "      <td>False</td>\n",
       "      <td>2016-10-24T08:22:54Z</td>\n",
       "    </tr>\n",
       "    <tr>\n",
       "      <th>1</th>\n",
       "      <td>UCvp9ypbbOQ2-vtuO-J3k-lw</td>\n",
       "      <td>@alexandriaasmr8317</td>\n",
       "      <td>Alexandria ASMR</td>\n",
       "      <td>ASMR - Autonomous sensory meridian response. I...</td>\n",
       "      <td>US</td>\n",
       "      <td>108539091</td>\n",
       "      <td>548000</td>\n",
       "      <td>295</td>\n",
       "      <td>False</td>\n",
       "      <td>2018-10-16T19:45:42Z</td>\n",
       "    </tr>\n",
       "  </tbody>\n",
       "</table>\n",
       "</div>"
      ],
      "text/plain": [
       "                  channelId            customUrl            title  \\\n",
       "0  UCFmL725KKPx2URVPvH3Gp8w            @asmrglow        ASMR Glow   \n",
       "1  UCvp9ypbbOQ2-vtuO-J3k-lw  @alexandriaasmr8317  Alexandria ASMR   \n",
       "\n",
       "                                         description country  viewCount  \\\n",
       "0  Here's everywhere you can find me: https://lin...      US  579354212   \n",
       "1  ASMR - Autonomous sensory meridian response. I...      US  108539091   \n",
       "\n",
       "   subscriberCount  videoCount madeForkids          creationDate  \n",
       "0          1720000         736       False  2016-10-24T08:22:54Z  \n",
       "1           548000         295       False  2018-10-16T19:45:42Z  "
      ]
     },
     "execution_count": 21,
     "metadata": {},
     "output_type": "execute_result"
    }
   ],
   "source": [
    "# general imports \n",
    "import os, sys  \n",
    "cwd = os.getcwd()\n",
    "dataset_name = 'ASMR_channels.csv'\n",
    "datapath = cwd + '/' + dataset_name\n",
    "import pandas as pd\n",
    "\n",
    "# read in dataset\n",
    "df = pd.read_csv(dataset_name)\n",
    "\n",
    "# examine head\n",
    "df.head(2)"
   ]
  },
  {
   "attachments": {},
   "cell_type": "markdown",
   "id": "fedcb7b8",
   "metadata": {},
   "source": [
    "Let's use sqlite to create full text search capability over the `description` column.\n",
    "\n",
    "This involves creating a special virtual table using Python's built-in `sqlite` library and `fts5` (full-text-search-5) built in extension - as shown below."
   ]
  },
  {
   "cell_type": "code",
   "execution_count": 22,
   "id": "19dfa1be",
   "metadata": {},
   "outputs": [],
   "source": [
    "# target filepath for sqlite db\n",
    "import sqlite3, os\n",
    "cwd = os.getcwd()\n",
    "db_name = 'test.db'\n",
    "dbpath = cwd + '/' + db_name\n",
    "\n",
    "# connect to db\n",
    "db = sqlite3.connect(dbpath)\n",
    "cur = db.cursor()\n",
    "\n",
    "# create a virtual table to house our text search\n",
    "cur.execute('''\n",
    "        CREATE VIRTUAL TABLE IF NOT EXISTS\n",
    "            asmr_description_search \n",
    "        USING\n",
    "            fts5(description, tokenize=\"porter unicode61\");\n",
    "    ''')\n",
    "\n",
    "# dump description column into virtual table\n",
    "cur.executemany('insert into asmr_description_search (description) values (?);', df[['description']].to_records(index=False))\n",
    "\n",
    "# commit\n",
    "db.commit()"
   ]
  },
  {
   "attachments": {},
   "cell_type": "markdown",
   "id": "39fa0677",
   "metadata": {},
   "source": [
    "We can now perform full text search our `description` column - as shown below - using  `sqlalchemy` connection."
   ]
  },
  {
   "cell_type": "code",
   "execution_count": 29,
   "id": "990354af",
   "metadata": {},
   "outputs": [
    {
     "name": "stdout",
     "output_type": "stream",
     "text": [
      "('I make ASMR videos 💖',)\n",
      "('I make ASMR videos to relax you, give you tingles and help you sleep 😴',)\n",
      "('Hi there! I make ASMR videos about music: music theory, music history, etc. Subscribe for more videos!',)\n",
      "('Hi I make asmr crushing with my monster slippers, this will be mostly repurposed content from my TikTok',)\n",
      "(\"Hello my lovely sweethearts💕 I'm Juliana, and I make ASMR videos to help you relax and fall asleep🥰\",)\n"
     ]
    }
   ],
   "source": [
    "# define input keywords\n",
    "search_phrase = 'i make asmr'\n",
    "\n",
    "# execute full text search\n",
    "cur.execute('''\n",
    "    SELECT \n",
    "        * \n",
    "    FROM \n",
    "        asmr_description_search\n",
    "    WHERE \n",
    "        description MATCH '\" ''' + str(search_phrase) + ''' \"'\n",
    "    ORDER BY \n",
    "        rank\n",
    "    LIMIT\n",
    "        5\n",
    "    ''')\n",
    "\n",
    "rows = cur.fetchall()\n",
    "\n",
    "for row in rows:\n",
    "    print(row)"
   ]
  },
  {
   "cell_type": "code",
   "execution_count": null,
   "id": "6f323a21",
   "metadata": {},
   "outputs": [],
   "source": []
  }
 ],
 "metadata": {
  "kernelspec": {
   "display_name": "Python 3 (ipykernel)",
   "language": "python",
   "name": "python3"
  },
  "language_info": {
   "codemirror_mode": {
    "name": "ipython",
    "version": 3
   },
   "file_extension": ".py",
   "mimetype": "text/x-python",
   "name": "python",
   "nbconvert_exporter": "python",
   "pygments_lexer": "ipython3",
   "version": "3.11.2"
  }
 },
 "nbformat": 4,
 "nbformat_minor": 5
}
